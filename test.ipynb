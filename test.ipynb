{
 "cells": [
  {
   "cell_type": "code",
   "execution_count": 2,
   "metadata": {},
   "outputs": [],
   "source": [
    "import random\n",
    "import json\n",
    "from useful_stuff.bots import RandBot, RdeepBot, MyBotA\n",
    "from useful_stuff.game import SchnapsenGamePlayEngine\n",
    "\n",
    "class Duel(): \n",
    "    def __init__(self, name1, name2):\n",
    "        self.match_results = None\n",
    "        self.total_results = {str(name1): 0, str(name2): 0}\n",
    "        self.bots = [name1, name2]\n",
    "\n",
    "    def addMatchResultToTotalResults(self):\n",
    "         self.total_results = { key: self.total_results[key] + self.match_results[key] for key in self.match_results.keys()  }\n",
    "\n",
    "    def playMatch(self, matchID):\n",
    "        self.match_results = {str(self.bots[0]): 0, str(self.bots[1]): 0}\n",
    "        firstBot = str(self.bots[matchID % 2])\n",
    "\n",
    "        while all(p < 7 for p in self.match_results.values()):\n",
    "            winner_id, game_points, score = self.play_game(firstBot)\n",
    "            self.match_results[str(winner_id)] += game_points\n",
    "            firstBot = str(winner_id)\n",
    "\n",
    "        self.addMatchResultToTotalResults()\n",
    "\n",
    "        return {\"match-id\": matchID,\"match-results\": self.match_results, \"total-results\": self.total_results}\n",
    "\n",
    "    def play_game(self, firstBot = None):\n",
    "        if str(self.bots[0]) == firstBot :\n",
    "            return SchnapsenGamePlayEngine().play_game(self.bots[0], self.bots[1], random.Random(random.randint(0, 200)))\n",
    "        else:\n",
    "            return SchnapsenGamePlayEngine().play_game(self.bots[1], self.bots[0], random.Random(random.randint(0, 200)))\n",
    "\n",
    "bots = [\n",
    "    RandBot(rand=random.Random(random.randint(0, 200)), name=\"RandBot\"),\n",
    "    RdeepBot(num_samples = 50, depth=12, rand=random.Random(random.randint(0, 200)), name=\"RdeepBot\"),\n",
    "]\n",
    "\n",
    "myBots = [\n",
    "    RandBot(rand=random.Random(random.randint(0, 200)), name=\"RandomBot\")\n",
    "]\n",
    "          \n",
    "for i in range(len(myBots)):\n",
    "    for j in range(len(bots)):\n",
    "    \n",
    "        bot1 = bots[j]\n",
    "        bot2 = myBots[i]\n",
    "        duel = Duel(bot1, bot2)\n",
    "        results = [duel.playMatch(g + 1) for g in range(4)]\n",
    "\n",
    "        with open(f\"results_{str(bot1)}_vs_{str(bot2)}.json\", \"w\") as file:\n",
    "            json.dump(results, file)     \n",
    "             \n"
   ]
  }
 ],
 "metadata": {
  "kernelspec": {
   "display_name": "Python 3",
   "language": "python",
   "name": "python3"
  },
  "language_info": {
   "codemirror_mode": {
    "name": "ipython",
    "version": 3
   },
   "file_extension": ".py",
   "mimetype": "text/x-python",
   "name": "python",
   "nbconvert_exporter": "python",
   "pygments_lexer": "ipython3",
   "version": "3.12.1"
  }
 },
 "nbformat": 4,
 "nbformat_minor": 2
}
