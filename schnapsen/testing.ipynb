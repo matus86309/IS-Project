{
 "cells": [
  {
   "cell_type": "code",
   "execution_count": 5,
   "metadata": {},
   "outputs": [
    {
     "ename": "ImportError",
     "evalue": "attempted relative import with no known parent package",
     "output_type": "error",
     "traceback": [
      "\u001b[1;31m---------------------------------------------------------------------------\u001b[0m",
      "\u001b[1;31mImportError\u001b[0m                               Traceback (most recent call last)",
      "Cell \u001b[1;32mIn[5], line 2\u001b[0m\n\u001b[0;32m      1\u001b[0m \u001b[38;5;28;01mfrom\u001b[39;00m \u001b[38;5;21;01mbots\u001b[39;00m \u001b[38;5;28;01mimport\u001b[39;00m \u001b[38;5;241m*\u001b[39m\n\u001b[1;32m----> 2\u001b[0m \u001b[38;5;28;01mfrom\u001b[39;00m \u001b[38;5;21;01m.\u001b[39;00m\u001b[38;5;21;01mgame\u001b[39;00m \u001b[38;5;28;01mimport\u001b[39;00m SchnapsenGamePlayEngine \u001b[38;5;28;01mas\u001b[39;00m engine\n\u001b[0;32m      3\u001b[0m \u001b[38;5;28;01mimport\u001b[39;00m \u001b[38;5;21;01mrandom\u001b[39;00m \n\u001b[0;32m      5\u001b[0m \u001b[38;5;66;03m# ** Round Robin **\u001b[39;00m\n",
      "\u001b[1;31mImportError\u001b[0m: attempted relative import with no known parent package"
     ]
    }
   ],
   "source": [
    "from bots import *\n",
    "from .game import SchnapsenGamePlayEngine as engine\n",
    "import random \n",
    "\n",
    "# ** Round Robin **\n",
    "\n",
    "bots = [\n",
    "    \n",
    "    RandBot(rand=random.Random(random.randint(0, 200)), name=\"RandBot\"),\n",
    "    RdeepBot(num_samples = 50, depth=12, rand=random.Random(random.randint(0, 200)), name=\"RdeepBot\"),\n",
    "]\n",
    "\n",
    "total_score = {}\n",
    "for i in range(len(bots)):\n",
    "    for j in range(i):\n",
    "        for game in range(15):\n",
    "            winner_id, game_points, score = engine().play_game(bots[i], bots[j], random.Random(random.randint(0, 200)))\n",
    "\n",
    "            total_score[str(winner_id)] = total_score.get(str(winner_id), 0) + game_points\n",
    "print(total_score)"
   ]
  }
 ],
 "metadata": {
  "kernelspec": {
   "display_name": "base",
   "language": "python",
   "name": "python3"
  },
  "language_info": {
   "codemirror_mode": {
    "name": "ipython",
    "version": 3
   },
   "file_extension": ".py",
   "mimetype": "text/x-python",
   "name": "python",
   "nbconvert_exporter": "python",
   "pygments_lexer": "ipython3",
   "version": "3.11.4"
  }
 },
 "nbformat": 4,
 "nbformat_minor": 2
}
