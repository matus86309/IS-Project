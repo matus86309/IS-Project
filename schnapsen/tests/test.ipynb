{
 "cells": [
  {
   "cell_type": "code",
   "execution_count": 11,
   "metadata": {},
   "outputs": [
    {
     "name": "stdout",
     "output_type": "stream",
     "text": [
      "{'RdeepBot': 32, 'RandBot': 2}\n"
     ]
    }
   ],
   "source": [
    "import random\n",
    "from schnapsen.bots import RandBot, RdeepBot\n",
    "from schnapsen.game import SchnapsenGamePlayEngine\n",
    "\n",
    "bots = [\n",
    "    RandBot(rand=random.Random(random.randint(0, 200)), name=\"RandBot\"),\n",
    "    RdeepBot(num_samples = 50, depth=12, rand=random.Random(random.randint(0, 200)), name=\"RdeepBot\"),\n",
    "]\n",
    "total_score = {}\n",
    "for i in range(len(bots)):\n",
    "        for game in range(15):\n",
    "            winner_id, game_points, score = SchnapsenGamePlayEngine().play_game(bots[i], MyBot, random.Random(random.randint(0, 200)))\n",
    "\n",
    "            total_score[str(winner_id)] = total_score.get(str(winner_id), 0) + game_points\n",
    "print(total_score)"
   ]
  }
 ],
 "metadata": {
  "kernelspec": {
   "display_name": "Python 3",
   "language": "python",
   "name": "python3"
  },
  "language_info": {
   "codemirror_mode": {
    "name": "ipython",
    "version": 3
   },
   "file_extension": ".py",
   "mimetype": "text/x-python",
   "name": "python",
   "nbconvert_exporter": "python",
   "pygments_lexer": "ipython3",
   "version": "3.12.1"
  }
 },
 "nbformat": 4,
 "nbformat_minor": 2
}
